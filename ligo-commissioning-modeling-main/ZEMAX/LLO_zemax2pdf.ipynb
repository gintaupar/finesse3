{
 "cells": [
  {
   "cell_type": "markdown",
   "metadata": {},
   "source": [
    "# Convert ZEMAX ray trace file into coordinates document"
   ]
  },
  {
   "cell_type": "markdown",
   "metadata": {},
   "source": [
    "## Import the data"
   ]
  },
  {
   "cell_type": "code",
   "execution_count": 26,
   "metadata": {},
   "outputs": [],
   "source": [
    "# import SCHTUFF\n",
    "import pandas as pd\n",
    "import numpy as np"
   ]
  },
  {
   "cell_type": "markdown",
   "metadata": {},
   "source": [
    "Find the encoding"
   ]
  },
  {
   "cell_type": "code",
   "execution_count": 27,
   "metadata": {},
   "outputs": [
    {
     "name": "stdout",
     "output_type": "stream",
     "text": [
      "Encoding is  UTF-16\n"
     ]
    }
   ],
   "source": [
    "fname = 'LLO_zemax.txt'\n",
    "import pandas as pd\n",
    "import chardet\n",
    "with open(fname, 'rb') as f:\n",
    "    result = chardet.detect(f.read())  # or readline if the file is large\n",
    "print('Encoding is ', result['encoding'])"
   ]
  },
  {
   "cell_type": "markdown",
   "metadata": {},
   "source": [
    "Find the first line of the table"
   ]
  },
  {
   "cell_type": "code",
   "execution_count": 28,
   "metadata": {},
   "outputs": [
    {
     "name": "stdout",
     "output_type": "stream",
     "text": [
      "string exists in file\n",
      "line Number: 13\n"
     ]
    }
   ],
   "source": [
    "# string to search in file\n",
    "with open(r'LLO_zemax.txt', 'r', encoding=result['encoding']) as fp:\n",
    "    # read all lines using readline()\n",
    "    lines = fp.readlines()\n",
    "    for row in lines:\n",
    "        # check if string present on a current line\n",
    "        word = 'Seg#'\n",
    "        #print(row.find(word))\n",
    "        # find() method returns -1 if the value is not found,\n",
    "        # if found it returns index of the first occurrence of the substring\n",
    "        if row.find(word) != -1:\n",
    "            print('string exists in file')\n",
    "            print('line Number:', lines.index(row))\n",
    "            tableStart = lines.index(row)"
   ]
  },
  {
   "cell_type": "markdown",
   "metadata": {},
   "source": [
    "Read the table - skipping the header material"
   ]
  },
  {
   "cell_type": "code",
   "execution_count": 29,
   "metadata": {},
   "outputs": [],
   "source": [
    "df = pd.read_table(fname, encoding=result['encoding'], skiprows=tableStart)"
   ]
  },
  {
   "cell_type": "markdown",
   "metadata": {},
   "source": [
    "## Manipulate the data"
   ]
  },
  {
   "cell_type": "markdown",
   "metadata": {},
   "source": [
    "Convert to numpy"
   ]
  },
  {
   "cell_type": "code",
   "execution_count": 30,
   "metadata": {},
   "outputs": [],
   "source": [
    "for col in df.columns:\n",
    "    # remove white space from name using strip()\n",
    "    colName = (col.strip())\n",
    "    # if colName == 'X':\n",
    "    #     x = df[col]\n",
    "    if colName == 'Y':\n",
    "        Y = df[col].to_numpy()\n",
    "    if colName == 'Z':\n",
    "        X = df[col].to_numpy()\n",
    "    if colName == 'Comment':\n",
    "        Comment = df[col].to_numpy()\n",
    "    if colName == 'Intensity':\n",
    "        intensity = df[col].to_numpy()"
   ]
  },
  {
   "cell_type": "markdown",
   "metadata": {},
   "source": [
    "## Plot the data"
   ]
  },
  {
   "cell_type": "code",
   "execution_count": 31,
   "metadata": {},
   "outputs": [
    {
     "data": {
      "text/plain": [
       "[<matplotlib.lines.Line2D at 0x10d3df5b0>]"
      ]
     },
     "execution_count": 31,
     "metadata": {},
     "output_type": "execute_result"
    },
    {
     "data": {
      "image/png": "[encoded data removed]",
      "text/plain": [
       "<Figure size 640x480 with 1 Axes>"
      ]
     },
     "metadata": {},
     "output_type": "display_data"
    }
   ],
   "source": [
    "import matplotlib.pyplot as plt\n",
    "\n",
    "plt.plot(X, Y, '-o')"
   ]
  },
  {
   "cell_type": "markdown",
   "metadata": {},
   "source": [
    "## Identify the optics"
   ]
  },
  {
   "cell_type": "code",
   "execution_count": 32,
   "metadata": {},
   "outputs": [],
   "source": [
    "# optic key: [common optic name, zemax optic name]\n",
    "optics = {\n",
    "    'ITMX': ['ITMX', 'ITMX-RADIUS'],\n",
    "    'ITMY': ['ITMY', 'ITMY-RADIUS'],\n",
    "    'BS': ['BS', 'BS A+'],\n",
    "    'SR3': ['SR3', 'SR3_RADIUS'],\n",
    "    'SR2': ['SR2', 'SR2_RADIUS'],\n",
    "    'SRM': ['SRM', 'SRM_RADIUS'],\n",
    "    'PR3': ['PR3', 'PR3_RADIUS'],\n",
    "    'PR2': ['PR2', 'PR2_RADIUS'],\n",
    "    'PRM': ['PRM', 'PRM_RADIUS'],\n",
    "    'OM1': ['OM1', 'OM1 O4'],\n",
    "    'OM2': ['OM2', 'OM2'],\n",
    "    'OM3': ['OM3', 'OM3'],\n",
    "    'OMC fold': ['OMC fold', 'input mirror'],\n",
    "    'OMC in': ['OMC input', 'cavity input'],\n",
    "    'ZM4': ['ZM4', 'ZM4'],\n",
    "    'ZM5': ['ZM5', 'ZM5'],\n",
    "    'ZM6': ['ZM6', 'ZM6'],\n",
    "    'SQZ Inj': ['SQZ Inj', 'SQZ Inj'],\n",
    "    'SQZ TFP': ['SQZ TFP', 'Thin Film']\n",
    "}"
   ]
  },
  {
   "cell_type": "markdown",
   "metadata": {},
   "source": [
    "### Find the elements which match the optic names and get the coordinates of those optics (subject to discrimination)"
   ]
  },
  {
   "cell_type": "code",
   "execution_count": 33,
   "metadata": {},
   "outputs": [],
   "source": [
    "for zName in optics:\n",
    "    cSub = np.array([]).reshape((0,3))\n",
    "    for ii in range(Comment.size):\n",
    "        # identify elements that contain the optic name\n",
    "        if Comment[ii].strip().startswith(optics[zName][1]):\n",
    "            # add x,y,int data to numpy array\n",
    "            cSub = np.append(cSub, [[X[ii], Y[ii], intensity[ii]]], axis=0)\n",
    "\n",
    "    # locate the elements with the highest intenstiy\n",
    "    maxInt = np.max(cSub[:, 2])\n",
    "    a = np.argwhere(cSub[:, 2] == maxInt)\n",
    "    a = a.reshape(a.size)\n",
    "\n",
    "    # get the coordinates of the highest intensity ray\n",
    "    coord = cSub[a[0], 0:2]\n",
    "    # add discriminator for ITMX and ITMY\n",
    "    maxInd = np.argwhere(cSub[:, 2] > 0.5*maxInt)\n",
    "    maxInd = maxInd.reshape(maxInd.size)\n",
    "    coordSub = cSub[maxInd, 0:2]\n",
    "    if zName=='ITMX':\n",
    "        # get extreme X most coordinate\n",
    "        bestInd = np.argwhere(coordSub[:,0]==np.max(coordSub[:,0]))\n",
    "        bestInd = bestInd.reshape(bestInd.size)[0]\n",
    "        coord = cSub[bestInd, 0:2]\n",
    "    if zName=='ITMY':\n",
    "        # get extreme Y most coordinate\n",
    "        bestInd = np.argwhere(coordSub[:,1]==np.max(coordSub[:,1]))\n",
    "        bestInd = bestInd.reshape(bestInd.size)[0]\n",
    "        coord = cSub[bestInd, 0:2]\n",
    "\n",
    "    # append the coordinates to the optics list\n",
    "    optics[zName] = [optics[zName], coord]"
   ]
  },
  {
   "cell_type": "markdown",
   "metadata": {},
   "source": [
    "### Get distances between optics"
   ]
  },
  {
   "cell_type": "code",
   "execution_count": 34,
   "metadata": {},
   "outputs": [],
   "source": [
    "#PL_OM1_OM2 (PL = physical length)\n",
    "# SRC\n",
    "distances = {\n",
    "    'SR3_SR2': np.linalg.norm(optics['SR3'][1] - optics['SR2'][1]),\n",
    "    'SR2_SRM': np.linalg.norm(optics['SR2'][1] - optics['SRM'][1]),\n",
    "    # Output chain\n",
    "    'SRM_OM1': np.linalg.norm(optics['SRM'][1] - optics['OM1'][1]),\n",
    "    'OM1_OM2': np.linalg.norm(optics['OM1'][1] - optics['OM2'][1]),\n",
    "    'OM2_OM3': np.linalg.norm(optics['OM2'][1] - optics['OM3'][1]),\n",
    "    'OM3_OMCin': np.linalg.norm(optics['OM3'][1] - optics['OMC fold'][1]) + np.linalg.norm(optics['OMC in'][1] - optics['OMC fold'][1]),\n",
    "    # SQZ distances\n",
    "    'ZM4_ZM5': np.linalg.norm(optics['ZM4'][1] - optics['ZM5'][1]),\n",
    "    'ZM5_ZM6': np.linalg.norm(optics['ZM5'][1] - optics['ZM6'][1]),\n",
    "    'ZM6_OFI': np.linalg.norm(optics['ZM6'][1] - optics['SQZ Inj'][1]) +  np.linalg.norm(optics['SQZ TFP'][1] - optics['SQZ Inj'][1]),\n",
    "    'OFI_SRM': np.linalg.norm(optics['SQZ TFP'][1] - optics['SRM'][1]),\n",
    "}\n",
    "#arr = np.round([PL_SR3_SR2, PL_SR2_SRM, PL_SRM_OM1, PL_OM1_OM2, PL_OM2_OM3, PL_OM3_OMC, PL_ZM4_ZM5, PL_ZM5_ZM6, PL_ZM6_OFI, PL_OFI_SRM])\n",
    "#print(arr)\n",
    "for dName in distances:\n",
    "    distances[dName] = [distances[dName], distances[dName]]\n",
    "\n",
    "# refractive index of glass\n",
    "n = 1.45\n",
    "\n",
    "# transmissive optics on HAM5\n",
    "thkSRM = 100 # mm\n",
    "thkTFP = 10 # mm\n",
    "distances['SRM_OM1'][1] = distances['SRM_OM1'][1] + (n-1)*thkSRM + (n-1)*thkTFP\n",
    "distances['OFI_SRM'][1] = distances['OFI_SRM'][1] + (n-1)*thkSRM\n",
    "\n",
    "# transmissive optics on HAM6\n",
    "thkOMCin = 10 #mm\n",
    "distances['OM3_OMCin'][1] = distances['OM3_OMCin'][1] + (n-1)*thkOMCin\n",
    "\n"
   ]
  },
  {
   "cell_type": "code",
   "execution_count": 35,
   "metadata": {},
   "outputs": [
    {
     "data": {
      "text/plain": [
       "[3451.220971531769, 3500.720971531769]"
      ]
     },
     "execution_count": 35,
     "metadata": {},
     "output_type": "execute_result"
    }
   ],
   "source": [
    "distances['SRM_OM1']"
   ]
  },
  {
   "cell_type": "markdown",
   "metadata": {},
   "source": [
    "## Generate a LaTeX file"
   ]
  },
  {
   "cell_type": "code",
   "execution_count": 36,
   "metadata": {},
   "outputs": [],
   "source": [
    "from datetime import datetime\n",
    "now = datetime.now()\n",
    "dateNow = now.strftime('%d/%b/%Y')"
   ]
  },
  {
   "cell_type": "code",
   "execution_count": 37,
   "metadata": {},
   "outputs": [],
   "source": [
    "DCCnum = 'E2200033-v5'\n",
    "fname = 'LLO_coords_' + DCCnum + '.tex'\n",
    "with open(fname, 'w') as f:\n",
    "    # header information\n",
    "    f.write('\\\\documentclass{article}\\n')\n",
    "    f.write('\\\\usepackage{graphicx} % Required for inserting images \\n')\n",
    "    f.write('\\\\usepackage{hyperref} \\n')\n",
    "    f.write('\\\\title{Table LLO} \\n')\n",
    "    f.write('\\\\author{ZEMAX 2 PDF }\\n')\n",
    "    f.write('\\\\date{' + dateNow + '}\\n\\n')\n",
    "    f.write('\\\\begin{document}\\n')\n",
    "    f.write('\\\\maketitle\\n\\n\\n')\n",
    "\n",
    "    f.write('Data extracted from Ray Database file in ' + DCCnum + ' at \\\\url{https://dcc.ligo.org/LIGO-' + DCCnum + '}\\n')\n",
    "    f.write('\\n\\n Regarding optical distances:\\n')\n",
    "    f.write('\\\\begin{itemize} \\n \\\\item SQZ thin film polarizer assumed to be fused silica and ' + '{0:.0f}'.format(thkTFP) + 'mm thick\\n')\n",
    "    f.write(' \\\\item OMC input assumed to be fused silica and ' + '{0:.0f}'.format(thkOMCin) + 'mm thick\\n')\n",
    "    f.write('\\\\end{itemize}\\n\\n')\n",
    "\n",
    "    f.write('\\\\begin{table}[h!] \\n\\\\centering \\n\\\\begin{tabular}{| c| c | c |} \\n')\n",
    "    f.write('\\\\hline \\\\bf{Optic name} & \\\\bf{Global X coord (mm)} & \\\\bf{Global Y coord (mm)} \\\\\\\\ \\\\hline \\n')\n",
    "\n",
    "\n",
    "    # loop through all the elements\n",
    "    for zName in optics:\n",
    "        coords = optics[zName][1]\n",
    "\n",
    "        strOut = zName + ' & ' + '{0:.0f}'.format(coords[0]) + ' & ' + '{0:.0f}'.format(coords[1]) + '\\\\\\\\ \\n'\n",
    "        f.write(strOut)\n",
    "    \n",
    "    f.write('\\\\hline \\n\\\\end{tabular} \\n')\n",
    "    f.write('\\\\caption{Table of physical LLO coordinates derived from ZEMAX. Generated on ' + dateNow + '}\\n')\n",
    "    f.write('\\\\end{table} \\n')\n",
    "\n",
    "    f.write('\\n')\n",
    "\n",
    "    # get the table of distances between optics\n",
    "    f.write('\\\\begin{table}[h!] \\n\\\\centering  \\n\\\\begin{tabular}{| c| c | c |} \\n')\n",
    "    f.write('\\\\hline \\\\bf{Distance} & \\\\bf{Physical Length (mm)} & \\\\bf{Optical Length (mm)} \\\\\\\\ \\\\hline \\n')\n",
    "\n",
    "    # loop through all the elements\n",
    "    for dName in distances:\n",
    "        PL = distances[dName][0]\n",
    "        OL = distances[dName][1]\n",
    "\n",
    "        strOut = dName.replace('_', '\\_') + ' & ' + '{0:.0f}'.format(PL) + ' & ' + '{0:.0f}'.format(OL) + '\\\\\\\\ \\n'\n",
    "        f.write(strOut)\n",
    "    \n",
    "    f.write('\\\\hline \\n\\\\end{tabular} \\n')\n",
    "    f.write('\\\\caption{Table of LLO distances derived from ZEMAX. Generated on ' + dateNow + '}\\n')\n",
    "    f.write('\\\\end{table} \\n')\n",
    "    f.write('\\n\\n Generated by \\\\url{https://git.ligo.org/IFOsim/ligo-commissioning-modeling/-/tree/main/ZEMAX/zemax2pdf.ipynb}\\n\\n')\n",
    "    f.write('\\n\\n\\\\end{document}')"
   ]
  },
  {
   "cell_type": "markdown",
   "metadata": {},
   "source": [
    "## Generate a PDF"
   ]
  },
  {
   "cell_type": "code",
   "execution_count": 38,
   "metadata": {},
   "outputs": [
    {
     "name": "stdout",
     "output_type": "stream",
     "text": [
      "This is pdfTeX, Version 3.14159265-2.6-1.40.17 (TeX Live 2016/MacPorts 2016_4) (preloaded format=pdflatex)\n",
      " restricted \\write18 enabled.\n",
      "entering extended mode\n",
      "(./LLO_coords_E2200033-v5.tex\n",
      "LaTeX2e <2016/03/31>\n",
      "Babel <3.9r> and hyphenation patterns for 3 language(s) loaded.\n",
      "(/opt/local/share/texmf-texlive/tex/latex/base/article.cls\n",
      "Document Class: article 2014/09/29 v1.4h Standard LaTeX document class\n",
      "(/opt/local/share/texmf-texlive/tex/latex/base/size10.clo))\n",
      "(/opt/local/share/texmf-texlive/tex/latex/graphics/graphicx.sty\n",
      "(/opt/local/share/texmf-texlive/tex/latex/graphics/keyval.sty)\n",
      "(/opt/local/share/texmf-texlive/tex/latex/graphics/graphics.sty\n",
      "(/opt/local/share/texmf-texlive/tex/latex/graphics/trig.sty)\n",
      "(/opt/local/share/texmf-texlive/tex/latex/graphics-cfg/graphics.cfg)\n",
      "(/opt/local/share/texmf-texlive/tex/latex/pdftex-def/pdftex.def\n",
      "(/opt/local/share/texmf-texlive/tex/generic/oberdiek/infwarerr.sty)\n",
      "(/opt/local/share/texmf-texlive/tex/generic/oberdiek/ltxcmds.sty))))\n",
      "(/opt/local/share/texmf-texlive/tex/latex/hyperref/hyperref.sty\n",
      "(/opt/local/share/texmf-texlive/tex/generic/oberdiek/hobsub-hyperref.sty\n",
      "(/opt/local/share/texmf-texlive/tex/generic/oberdiek/hobsub-generic.sty))\n",
      "(/opt/local/share/texmf-texlive/tex/generic/ifxetex/ifxetex.sty)\n",
      "(/opt/local/share/texmf-texlive/tex/latex/oberdiek/auxhook.sty)\n",
      "(/opt/local/share/texmf-texlive/tex/latex/oberdiek/kvoptions.sty)\n",
      "(/opt/local/share/texmf-texlive/tex/latex/hyperref/pd1enc.def)\n",
      "(/opt/local/share/texmf-texlive/tex/latex/latexconfig/hyperref.cfg)\n",
      "(/opt/local/share/texmf-texlive/tex/latex/url/url.sty))\n",
      "\n",
      "Package hyperref Message: Driver (autodetected): hpdftex.\n",
      "\n",
      "(/opt/local/share/texmf-texlive/tex/latex/hyperref/hpdftex.def\n",
      "(/opt/local/share/texmf-texlive/tex/latex/oberdiek/rerunfilecheck.sty))\n",
      "No file LLO_coords_E2200033-v5.aux.\n",
      "(/opt/local/share/texmf-texlive/tex/context/base/mkii/supp-pdf.mkii\n",
      "[Loading MPS to PDF converter (version 2006.09.02).]\n",
      ") (/opt/local/share/texmf-texlive/tex/latex/oberdiek/epstopdf-base.sty\n",
      "(/opt/local/share/texmf-texlive/tex/latex/oberdiek/grfext.sty)\n",
      "(/opt/local/share/texmf-texlive/tex/latex/latexconfig/epstopdf-sys.cfg))\n",
      "(/opt/local/share/texmf-texlive/tex/latex/hyperref/nameref.sty\n",
      "(/opt/local/share/texmf-texlive/tex/generic/oberdiek/gettitlestring.sty))\n",
      "(/opt/local/share/texmf-texlive/tex/latex/base/omscmr.fd)\n",
      "\n",
      "LaTeX Warning: `!h' float specifier changed to `!ht'.\n",
      "\n",
      "\n",
      "Overfull \\hbox (25.09474pt too wide) in paragraph at lines 69--70\n",
      "[]\\OT1/cmr/m/n/10 Generated by []$\\OT1/cmtt/m/n/10 https : / / git . ligo . org\n",
      " / IFOsim / ligo-[]commissioning-[]modeling /\n",
      "[1{/opt/local/var/db/texmf/fonts/map/pdftex/updmap/pdftex.map}] [2]\n",
      "(./LLO_coords_E2200033-v5.aux)\n",
      "\n",
      "Package rerunfilecheck Warning: File `LLO_coords_E2200033-v5.out' has changed.\n",
      "(rerunfilecheck)                Rerun to get outlines right\n",
      "(rerunfilecheck)                or use package `bookmark'.\n",
      "\n",
      " )\n",
      "(see the transcript file for additional information)</opt/local/share/texmf-tex\n",
      "live/fonts/type1/public/amsfonts/cm/cmbx10.pfb></opt/local/share/texmf-texlive/\n",
      "fonts/type1/public/amsfonts/cm/cmr10.pfb></opt/local/share/texmf-texlive/fonts/\n",
      "type1/public/amsfonts/cm/cmr12.pfb></opt/local/share/texmf-texlive/fonts/type1/\n",
      "public/amsfonts/cm/cmr17.pfb></opt/local/share/texmf-texlive/fonts/type1/public\n",
      "/amsfonts/cm/cmsy10.pfb></opt/local/share/texmf-texlive/fonts/type1/public/amsf\n",
      "onts/cm/cmtt10.pfb>\n",
      "Output written on LLO_coords_E2200033-v5.pdf (2 pages, 78783 bytes).\n",
      "Transcript written on LLO_coords_E2200033-v5.log.\n"
     ]
    },
    {
     "name": "stderr",
     "output_type": "stream",
     "text": [
      "rm: *.dvi: No such file or directory\n"
     ]
    },
    {
     "data": {
      "text/plain": [
       "256"
      ]
     },
     "execution_count": 38,
     "metadata": {},
     "output_type": "execute_result"
    }
   ],
   "source": [
    "import os\n",
    "\n",
    "os.system('pdflatex ' + fname)\n",
    "os.system('rm *.dvi *.aux *.log *.out')"
   ]
  }
 ],
 "metadata": {
  "kernelspec": {
   "display_name": "finesse3",
   "language": "python",
   "name": "python3"
  },
  "language_info": {
   "codemirror_mode": {
    "name": "ipython",
    "version": 3
   },
   "file_extension": ".py",
   "mimetype": "text/x-python",
   "name": "python",
   "nbconvert_exporter": "python",
   "pygments_lexer": "ipython3",
   "version": "3.10.12"
  }
 },
 "nbformat": 4,
 "nbformat_minor": 2
}
