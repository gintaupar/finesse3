{
 "cells": [
  {
   "cell_type": "code",
   "execution_count": null,
   "id": "8b04cc08-82f0-44e0-963b-981ec275d518",
   "metadata": {
    "editable": true,
    "slideshow": {
     "slide_type": ""
    },
    "tags": []
   },
   "outputs": [],
   "source": [
    "%matplotlib widget # install https://github.com/matplotlib/ipympl\n",
    "import follow_the_leader\n",
    "from datetime import datetime\n",
    "from matplotlib import pyplot\n",
    "from matplotlib.animation import FuncAnimation\n",
    "from random import randrange\n",
    "\n",
    "x_data, y_data = [], []\n",
    "\n",
    "figure = pyplot.figure()\n",
    "line, = pyplot.plot_date(x_data, y_data, '-')\n",
    "\n",
    "def update(frame):\n",
    "    x_data.append(datetime.now())\n",
    "    y_data.append(randrange(0, 100))\n",
    "    line.set_data(x_data, y_data)\n",
    "    figure.gca().relim()\n",
    "    figure.gca().autoscale_view()\n",
    "    return line,\n",
    "\n",
    "animation = FuncAnimation(figure, update, interval=200)\n",
    "\n",
    "pyplot.show()"
   ]
  },
  {
   "cell_type": "code",
   "execution_count": null,
   "id": "c127774e-e22b-4eed-a621-39cdb04d82b8",
   "metadata": {
    "editable": true,
    "slideshow": {
     "slide_type": ""
    },
    "tags": []
   },
   "outputs": [],
   "source": [
    "animation.pause()"
   ]
  },
  {
   "cell_type": "code",
   "execution_count": null,
   "id": "8d44a221-4574-4e49-a946-7eb3b6ee6e9a",
   "metadata": {},
   "outputs": [],
   "source": [
    "animation.resume()"
   ]
  },
  {
   "cell_type": "code",
   "execution_count": null,
   "id": "6c9c6b0d-de24-425f-bb4c-615c08302f70",
   "metadata": {},
   "outputs": [],
   "source": []
  }
 ],
 "metadata": {
  "kernelspec": {
   "display_name": "Python 3 (ipykernel)",
   "language": "python",
   "name": "python3"
  },
  "language_info": {
   "codemirror_mode": {
    "name": "ipython",
    "version": 3
   },
   "file_extension": ".py",
   "mimetype": "text/x-python",
   "name": "python",
   "nbconvert_exporter": "python",
   "pygments_lexer": "ipython3",
   "version": "3.12.2"
  }
 },
 "nbformat": 4,
 "nbformat_minor": 5
}
