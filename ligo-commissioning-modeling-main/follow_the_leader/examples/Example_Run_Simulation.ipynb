{
 "cells": [
  {
   "cell_type": "code",
   "execution_count": null,
   "id": "629b1e88-dcd9-4f3d-bef3-fc9d91416f90",
   "metadata": {
    "editable": true,
    "slideshow": {
     "slide_type": ""
    },
    "tags": []
   },
   "outputs": [],
   "source": [
    "import follow_the_leader\n"
   ]
  },
  {
   "cell_type": "code",
   "execution_count": null,
   "id": "427e80e8-4032-4e8e-a3fb-cae451a721d9",
   "metadata": {
    "editable": true,
    "slideshow": {
     "slide_type": ""
    },
    "tags": []
   },
   "outputs": [],
   "source": [
    "import finesse\n",
    "import finesse.analysis.actions as fac\n",
    "import gpstime\n",
    "import pickle\n",
    "import argparse\n",
    "import importlib\n",
    "import finesse_ligo\n",
    "from munch import Munch\n",
    "#from gwpy.timeseries import TimeSeries\n",
    "import numpy as np\n",
    "import os\n",
    "import json\n",
    "from copy import deepcopy\n",
    "from pathlib import Path\n",
    "from finesse.exceptions import LostLock\n",
    "#from gwpy.time import to_gps\n",
    "from finesse_ligo.factory import ALIGOFactory\n",
    "\n",
    "from follow_the_leader.actions import (\n",
    "    add_fields_ligo,\n",
    "    correct_arm_loss_for_nonzero_maxtem,\n",
    "    MyLockLIGO,\n",
    "    time_dependant_sim\n",
    ")\n",
    "from follow_the_leader.gwd_data import (\n",
    "    llo_data\n",
    ")\n",
    "\n",
    "import sys"
   ]
  },
  {
   "cell_type": "code",
   "execution_count": null,
   "id": "1f0481d0-d00b-4995-99e6-95deef88cad7",
   "metadata": {},
   "outputs": [],
   "source": [
    "LIGO_COMMISSIONING_DIR = follow_the_leader.add_power_up_scripts_to_path()\n",
    "print(sys.path)"
   ]
  },
  {
   "cell_type": "code",
   "execution_count": null,
   "id": "310d3299-7e5a-475b-bf62-4d0c94ae1693",
   "metadata": {},
   "outputs": [],
   "source": [
    "import fenicsx; print(fenicsx.__file__) # should be called from the ligo-commissioning-modelling repo\n",
    "import dmd; print(dmd.__file__)\n",
    "import fdm; print(fdm.__file__)"
   ]
  },
  {
   "cell_type": "code",
   "execution_count": null,
   "id": "c16fb086-41f7-4ae0-bfb3-aedbdc540a21",
   "metadata": {},
   "outputs": [],
   "source": [
    "thermal_state_class = fenicsx.FENICSXThermalState\n",
    "thermal_state_class = dmd.DMDThermalState # Comment this out to use Fenicxs\n",
    "thermal_state_class = fdm.FDMThermalState # Comment this out to use Fenicxs"
   ]
  },
  {
   "cell_type": "code",
   "execution_count": null,
   "id": "fb32b48c-6cd4-4261-8a70-3384be18d5c5",
   "metadata": {},
   "outputs": [],
   "source": [
    "factory = ALIGOFactory(LIGO_COMMISSIONING_DIR / \"LLO\" / \"yaml\" / \"llo_O4.yaml\")\n",
    "# Make the ifo model\n",
    "factory.options.LSC.add_output_detectors = True\n",
    "factory.options.ASC.add = False\n",
    "factory.options.thermal.add = True\n",
    "llo = factory.make()\n",
    "llo.modes(\"even\", maxtem=6)\n",
    "add_fields_ligo(llo)"
   ]
  },
  {
   "cell_type": "code",
   "execution_count": null,
   "id": "7951d04a-f75b-48b9-b3ab-38225e74ffdf",
   "metadata": {},
   "outputs": [],
   "source": [
    "TS = thermal_state_class(factory, llo)\n",
    "initial_model = llo.deepcopy()  # keep a copy of the initial state\n",
    "TS.update_maps()"
   ]
  },
  {
   "cell_type": "code",
   "execution_count": null,
   "id": "6aa8e639-6852-49e6-89cd-9896a4e24889",
   "metadata": {},
   "outputs": [],
   "source": [
    "correct_arm_loss_for_nonzero_maxtem(llo, verbose=True)"
   ]
  },
  {
   "cell_type": "code",
   "execution_count": null,
   "id": "1ed60db6-1ae3-4588-bad1-b088c875b9c9",
   "metadata": {},
   "outputs": [],
   "source": [
    "lock_params = dict(\n",
    "    exception_on_lock_fail=False,\n",
    "    lock_steps=100,\n",
    "    gain_scale=0.4,\n",
    "    pseudo_lock_arms=False,\n",
    "    run_locks=True,\n",
    "    break_point=4\n",
    ")\n",
    "\n",
    "\n",
    "lock = MyLockLIGO(**lock_params)\n",
    "sol = llo.run(lock)\n",
    "sol[\"final run locks\"].plot()\n",
    "\n",
    "# save initial gains to be changed during power up\n",
    "initial_gains = {}\n",
    "for lsc_dof in [\"DARM_rf\", \"CARM\", \"PRCL\", \"SRCL\", \"MICH\"]:\n",
    "    initial_gains[lsc_dof] = llo.get(f\"{lsc_dof}_lock.gain\")"
   ]
  },
  {
   "cell_type": "code",
   "execution_count": null,
   "id": "ceabc08c-d172-44d5-a49c-b5fe65852935",
   "metadata": {
    "editable": true,
    "slideshow": {
     "slide_type": ""
    },
    "tags": []
   },
   "outputs": [],
   "source": [
    "comparison_time = 1403893909 # Today (Jul 1st 24) last time IFO lost lock\n",
    "\n",
    "#https://alog.ligo-la.caltech.edu/aLOG/index.php?callRep=71477\n",
    "#comparison_time = to_gps('May 21 2024 23:00:00.000') # Valery's measurement is at 23:05 (time is UTC, so should match)\n",
    "print(comparison_time)\n",
    "\n",
    "max_time = 2*3600\n",
    "\n",
    "#llodata = llo_data(chan_mapping=chns)\n",
    "#llodata.reset_cache()\n",
    "llodata = llo_data(chan_mapping='L1.yaml')"
   ]
  },
  {
   "cell_type": "code",
   "execution_count": null,
   "id": "a37cba6f-4e40-4eca-a49c-1edb1dd211b1",
   "metadata": {},
   "outputs": [],
   "source": [
    "# Prepare ndscope template file\n",
    "myyaml = llodata.format_ndscope_yaml(comparison_time, max_time)\n",
    "#print(myyaml)"
   ]
  },
  {
   "cell_type": "code",
   "execution_count": null,
   "id": "247b517d-a395-43df-a675-35cf5fe1bab5",
   "metadata": {},
   "outputs": [],
   "source": [
    "llodata.attach_ndscope_outputs(['2024_05_21-Parm.hdf5', '2024_06_01-PowerUp.hdf5'])"
   ]
  },
  {
   "cell_type": "code",
   "execution_count": null,
   "id": "1d3f44ce-52cf-48ed-b812-21ef79955cce",
   "metadata": {},
   "outputs": [],
   "source": [
    "Pin = llodata.get_timeseries(comparison_time, 'Pin', max_time, interpolate=True, frametype='L1_T', verbose=True, allow_tape=True)\n",
    "G = llodata.get_timeseries(comparison_time, 'Guard', max_time, interpolate=True, verbose=True, allow_tape=True)"
   ]
  },
  {
   "cell_type": "code",
   "execution_count": null,
   "id": "96407daa-a0dc-42cc-aaa4-71b29ddf91b9",
   "metadata": {
    "editable": true,
    "slideshow": {
     "slide_type": ""
    },
    "tags": []
   },
   "outputs": [],
   "source": [
    "data = time_dependant_sim(TS, llo, factory,\n",
    "                          Pin, G, comparison_time, max_time, lock, \n",
    "                          cache_states=False, simDataKwargs={'enable': False})"
   ]
  },
  {
   "cell_type": "code",
   "execution_count": null,
   "id": "403c1a22-c89c-4257-8835-bee93a3f9dac",
   "metadata": {},
   "outputs": [],
   "source": []
  },
  {
   "cell_type": "code",
   "execution_count": null,
   "id": "77513028-b24e-4a3e-80e8-ef6b7417f876",
   "metadata": {},
   "outputs": [],
   "source": []
  },
  {
   "cell_type": "code",
   "execution_count": null,
   "id": "fd0b11c0-cea1-45ee-b735-cf2618319ea9",
   "metadata": {},
   "outputs": [],
   "source": []
  }
 ],
 "metadata": {
  "kernelspec": {
   "display_name": "Python 3 (ipykernel)",
   "language": "python",
   "name": "python3"
  },
  "language_info": {
   "codemirror_mode": {
    "name": "ipython",
    "version": 3
   },
   "file_extension": ".py",
   "mimetype": "text/x-python",
   "name": "python",
   "nbconvert_exporter": "python",
   "pygments_lexer": "ipython3",
   "version": "3.12.2"
  }
 },
 "nbformat": 4,
 "nbformat_minor": 5
}
