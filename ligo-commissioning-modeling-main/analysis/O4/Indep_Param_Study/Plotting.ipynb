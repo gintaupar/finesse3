{
 "cells": [
  {
   "cell_type": "code",
   "execution_count": null,
   "id": "6a4ad73a-392a-4696-95d4-891d4acec48c",
   "metadata": {},
   "outputs": [],
   "source": [
    "import pickle\n",
    "import numpy as np\n",
    "import matplotlib.tri as tri\n",
    "import matplotlib.pyplot as plt\n",
    "from glob import glob"
   ]
  },
  {
   "cell_type": "code",
   "execution_count": null,
   "id": "224312b0-2a7d-48e8-b31c-01d4222ce094",
   "metadata": {},
   "outputs": [],
   "source": [
    "suffix = '20250129'"
   ]
  },
  {
   "cell_type": "code",
   "execution_count": null,
   "id": "467a41ca-3b1b-4fc7-b8c9-c166a6c4f68c",
   "metadata": {},
   "outputs": [],
   "source": [
    "parentrepo = \"/home/shreejit.jadhav/WORK/RC/ligo-commissioning-modeling\"\n",
    "repopath = f\"{parentrepo}/analysis/O4/Indep_Param_Study\"\n",
    "\n",
    "maxtems = 8\n",
    "datapath = f'{repopath}/data/run_{suffix}'\n",
    "figpath = f'{repopath}/plots/plots_{suffix}'\n",
    "\n",
    "data = {}\n",
    "for f in glob(f'{datapath}/*.pkl'):\n",
    "    with open(f, \"rb\") as file:\n",
    "        dat1 = pickle.load(file)\n",
    "    \n",
    "    for k in dat1:\n",
    "        if k not in data:\n",
    "            data[k] = np.array(dat1[k])\n",
    "        data[k] = np.append(data[k], dat1[k])"
   ]
  },
  {
   "cell_type": "code",
   "execution_count": null,
   "id": "e17d964c-8daa-4ec2-ab51-87c1fe781a60",
   "metadata": {},
   "outputs": [],
   "source": [
    "ITMXlens_f = data[\"ITMXlens.f\"]\n",
    "ITMYlens_f = data[\"ITMYlens.f\"]\n",
    "ITMX_Rcx = data[\"ITMX.Rcx\"]\n",
    "PRG = data[\"PRG\"]\n",
    "\n",
    "unique_rcx = np.unique(ITMX_Rcx)\n",
    "\n",
    "for rcx in unique_rcx:\n",
    "\n",
    "    mask = ITMX_Rcx == rcx\n",
    "    x = ITMXlens_f[mask]\n",
    "    y = ITMYlens_f[mask]\n",
    "    z = PRG[mask]\n",
    "\n",
    "    # triangulation object\n",
    "    try:\n",
    "        triang = tri.Triangulation(x, y)\n",
    "    except:\n",
    "        continue\n",
    "\n",
    "    # contour plotting\n",
    "    xi = np.linspace(np.min(x), np.max(x), 100)\n",
    "    yi = np.linspace(np.min(y), np.max(y), 100)\n",
    "    xi, yi = np.meshgrid(xi, yi)\n",
    "\n",
    "    # interpolate z values\n",
    "    interpolator = tri.LinearTriInterpolator(triang, z)\n",
    "    zi = interpolator(xi, yi)\n",
    "\n",
    "    # plot\n",
    "    plt.figure()\n",
    "    contour = plt.contourf(xi, yi, zi, levels=20, cmap='viridis')\n",
    "    plt.colorbar(contour, label='PRG')\n",
    "\n",
    "    plt.title(f'Contour Plot of ITMXlens.f vs ITMYlens.f (ITMX.Rcx = {rcx})')\n",
    "    plt.xlabel('ITMXlens.f')\n",
    "    plt.ylabel('ITMYlens.f')\n",
    "    plt.grid()\n",
    "    plt.savefig(f'{repopath}/plots/plots_{suffix}/contour_plot_rcx_{rcx:.2f}.png')\n",
    "    plt.show()"
   ]
  },
  {
   "cell_type": "code",
   "execution_count": null,
   "id": "e53b0bff-1878-4083-bcf7-bedc9bdae6b2",
   "metadata": {},
   "outputs": [],
   "source": []
  }
 ],
 "metadata": {
  "kernelspec": {
   "display_name": "Python 3 (ipykernel)",
   "language": "python",
   "name": "python3"
  },
  "language_info": {
   "codemirror_mode": {
    "name": "ipython",
    "version": 3
   },
   "file_extension": ".py",
   "mimetype": "text/x-python",
   "name": "python",
   "nbconvert_exporter": "python",
   "pygments_lexer": "ipython3",
   "version": "3.10.14"
  }
 },
 "nbformat": 4,
 "nbformat_minor": 5
}
